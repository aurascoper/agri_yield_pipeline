{
 "cells": [
  {
   "cell_type": "markdown",
   "metadata": {},
   "source": [
    "# NDVI and Weather Analysis",
    "",
    "This notebook explores NDVI data and weather data for modeling grain yield in Missouri."
   ]
  },
  {
   "cell_type": "code",
   "metadata": {},
   "source": [
    "# Import necessary libraries",
    "import src.config as config",
    "import src.ndvi as ndvi_module",
    "import src.weather as weather_module"
   ]
  },
  {
   "cell_type": "code",
   "metadata": {},
   "source": [
    "# Fetch NDVI data",
    "ndvi_data = ndvi_module.get_ndvi(config.BBOX, config.START_DATE, config.END_DATE)",
    "ndvi_data"
   ]
  },
  {
   "cell_type": "code",
   "metadata": {},
   "source": [
    "# Fetch weather data",
    "weather_data = weather_module.get_weather(config.START_DATE, config.END_DATE)",
    "weather_data"
   ]
  }
 ],
 "metadata": {
  "kernelspec": {
   "display_name": "Python 3",
   "language": "python",
   "name": "python3"
  },
  "language_info": {
   "name": "python",
   "version": "3.x"
  }
 },
 "nbformat": 4,
 "nbformat_minor": 2
}